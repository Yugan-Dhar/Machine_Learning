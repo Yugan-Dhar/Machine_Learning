{
 "cells": [
  {
   "cell_type": "code",
   "execution_count": 2,
   "id": "0d922dfd-bad5-49e1-9726-84d0abfea642",
   "metadata": {},
   "outputs": [
    {
     "name": "stdout",
     "output_type": "stream",
     "text": [
      "Alpha: 1e-15, R2 Score: 0.9986334852655715\n",
      "Alpha: 1e-10, R2 Score: 0.9986334852655776\n",
      "Alpha: 1e-05, R2 Score: 0.9986334858794664\n",
      "Alpha: 0.001, R2 Score: 0.998633546191726\n",
      "Alpha: 0, R2 Score: 0.9986334852655715\n",
      "Alpha: 1, R2 Score: 0.9986169295857686\n",
      "Alpha: 10, R2 Score: 0.9985480091267668\n",
      "Alpha: 20, R2 Score: 0.9985286352639124\n",
      "\n",
      "Best Alpha: 0.001\n",
      "Best R2 Score: 0.998633546191726\n"
     ]
    }
   ],
   "source": [
    "import numpy as np\n",
    "import pandas as pd\n",
    "from sklearn.linear_model import Ridge\n",
    "from sklearn.preprocessing import StandardScaler\n",
    "from sklearn.metrics import r2_score\n",
    "from sklearn.model_selection import train_test_split\n",
    "\n",
    "# Step 1: Generate a dataset with 7 highly correlated features\n",
    "np.random.seed(42)\n",
    "\n",
    "n_samples = 1000\n",
    "X_base = np.random.rand(n_samples)\n",
    "\n",
    "# Create 7 highly correlated features\n",
    "X1 = X_base + np.random.normal(0, 0.01, n_samples)\n",
    "X2 = X_base * 0.8 + np.random.normal(0, 0.01, n_samples)\n",
    "X3 = X_base * 1.2 + np.random.normal(0, 0.01, n_samples)\n",
    "X4 = X_base + 0.5 * X1 + np.random.normal(0, 0.01, n_samples)\n",
    "X5 = X_base * 0.7 + np.random.normal(0, 0.01, n_samples)\n",
    "X6 = X_base + 0.9 * X1 + np.random.normal(0, 0.01, n_samples)\n",
    "X7 = X_base * 1.1 + np.random.normal(0, 0.01, n_samples)\n",
    "\n",
    "# Combine into a dataset\n",
    "X = np.column_stack([X1, X2, X3, X4, X5, X6, X7])\n",
    "y = 3 * X_base + 2 * X1 + np.random.normal(0, 0.05, n_samples)  # Target variable\n",
    "\n",
    "# Step 2: Standardize the features\n",
    "scaler = StandardScaler()\n",
    "X_scaled = scaler.fit_transform(X)\n",
    "\n",
    "# Step 3: Split data into training and test sets\n",
    "X_train, X_test, y_train, y_test = train_test_split(X_scaled, y, test_size=0.3, random_state=42)\n",
    "\n",
    "# Step 4: Train Ridge Regression using different values of alpha (regularization strength)\n",
    "alphas = [1e-15, 1e-10, 1e-5, 1e-3, 0, 1, 10, 20]\n",
    "best_r2 = -np.inf\n",
    "best_alpha = None\n",
    "\n",
    "for alpha in alphas:\n",
    "    ridge_reg = Ridge(alpha=alpha)\n",
    "    ridge_reg.fit(X_train, y_train)\n",
    "    \n",
    "    # Predict and calculate R2 score\n",
    "    y_pred = ridge_reg.predict(X_test)\n",
    "    r2 = r2_score(y_test, y_pred)\n",
    "    \n",
    "    print(f\"Alpha: {alpha}, R2 Score: {r2}\")\n",
    "    \n",
    "    if r2 > best_r2:\n",
    "        best_r2 = r2\n",
    "        best_alpha = alpha\n",
    "\n",
    "# Step 5: Output the best alpha and corresponding R2 score\n",
    "print(f\"\\nBest Alpha: {best_alpha}\")\n",
    "print(f\"Best R2 Score: {best_r2}\")\n"
   ]
  },
  {
   "cell_type": "code",
   "execution_count": 1,
   "id": "b6f85965-0113-49dc-93ed-8399ea802c18",
   "metadata": {},
   "outputs": [
    {
     "data": {
      "text/plain": [
       "array([[0.37631713, 0.28556892, 0.45819331, ..., 0.26496892, 0.70090013,\n",
       "        0.42401345],\n",
       "       [0.93736086, 0.75974039, 1.13435952, ..., 0.66841565, 1.78749417,\n",
       "        1.04587362],\n",
       "       [0.73579592, 0.57054795, 0.86636072, ..., 0.49548904, 1.39878351,\n",
       "        0.80577198],\n",
       "       ...,\n",
       "       [0.13644826, 0.10703993, 0.15189792, ..., 0.0922133 , 0.26286243,\n",
       "        0.14031179],\n",
       "       [0.94594433, 0.75957224, 1.11952894, ..., 0.66545805, 1.80982828,\n",
       "        1.04298338],\n",
       "       [0.43908156, 0.36159903, 0.53434623, ..., 0.31918378, 0.83953769,\n",
       "        0.48120619]])"
      ]
     },
     "execution_count": 1,
     "metadata": {},
     "output_type": "execute_result"
    }
   ],
   "source": [
    "import numpy as np\n",
    "import pandas as pd\n",
    "from sklearn.linear_model import Ridge\n",
    "from sklearn.preprocessing import StandardScaler\n",
    "from sklearn.metrics import r2_score\n",
    "from sklearn.model_selection import train_test_split\n",
    "\n",
    "# Step 1: Generate a dataset with 7 highly correlated features\n",
    "np.random.seed(42)\n",
    "\n",
    "n_samples = 1000\n",
    "X_base = np.random.rand(n_samples)\n",
    "\n",
    "# Create 7 highly correlated features\n",
    "X1 = X_base + np.random.normal(0, 0.01, n_samples)\n",
    "X2 = X_base * 0.8 + np.random.normal(0, 0.01, n_samples)\n",
    "X3 = X_base * 1.2 + np.random.normal(0, 0.01, n_samples)\n",
    "X4 = X_base + 0.5 * X1 + np.random.normal(0, 0.01, n_samples)\n",
    "X5 = X_base * 0.7 + np.random.normal(0, 0.01, n_samples)\n",
    "X6 = X_base + 0.9 * X1 + np.random.normal(0, 0.01, n_samples)\n",
    "X7 = X_base * 1.1 + np.random.normal(0, 0.01, n_samples)\n",
    "\n",
    "# Combine into a dataset\n",
    "X = np.column_stack([X1, X2, X3, X4, X5, X6, X7])\n",
    "X"
   ]
  },
  {
   "cell_type": "code",
   "execution_count": null,
   "id": "6cc7904a-d5e0-4190-9601-0a1bfddc09d7",
   "metadata": {},
   "outputs": [],
   "source": []
  }
 ],
 "metadata": {
  "kernelspec": {
   "display_name": "Python 3 (ipykernel)",
   "language": "python",
   "name": "python3"
  },
  "language_info": {
   "codemirror_mode": {
    "name": "ipython",
    "version": 3
   },
   "file_extension": ".py",
   "mimetype": "text/x-python",
   "name": "python",
   "nbconvert_exporter": "python",
   "pygments_lexer": "ipython3",
   "version": "3.12.4"
  }
 },
 "nbformat": 4,
 "nbformat_minor": 5
}
